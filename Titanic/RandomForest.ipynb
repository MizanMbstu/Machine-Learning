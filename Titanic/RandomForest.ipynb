{
 "cells": [
  {
   "cell_type": "code",
   "execution_count": 1,
   "id": "b74b2986",
   "metadata": {},
   "outputs": [
    {
     "data": {
      "text/html": [
       "<table class=\"dataframe\">\n",
       "<caption>A data.frame: 6 × 12</caption>\n",
       "<thead>\n",
       "\t<tr><th></th><th scope=col>PassengerId</th><th scope=col>Survived</th><th scope=col>Pclass</th><th scope=col>Name</th><th scope=col>Sex</th><th scope=col>Age</th><th scope=col>SibSp</th><th scope=col>Parch</th><th scope=col>Ticket</th><th scope=col>Fare</th><th scope=col>Cabin</th><th scope=col>Embarked</th></tr>\n",
       "\t<tr><th></th><th scope=col>&lt;int&gt;</th><th scope=col>&lt;int&gt;</th><th scope=col>&lt;int&gt;</th><th scope=col>&lt;chr&gt;</th><th scope=col>&lt;chr&gt;</th><th scope=col>&lt;dbl&gt;</th><th scope=col>&lt;int&gt;</th><th scope=col>&lt;int&gt;</th><th scope=col>&lt;chr&gt;</th><th scope=col>&lt;dbl&gt;</th><th scope=col>&lt;chr&gt;</th><th scope=col>&lt;chr&gt;</th></tr>\n",
       "</thead>\n",
       "<tbody>\n",
       "\t<tr><th scope=row>1</th><td>1</td><td>0</td><td>3</td><td>Braund, Mr. Owen Harris                            </td><td>male  </td><td>22</td><td>1</td><td>0</td><td>A/5 21171       </td><td> 7.2500</td><td>    </td><td>S</td></tr>\n",
       "\t<tr><th scope=row>2</th><td>2</td><td>1</td><td>1</td><td>Cumings, Mrs. John Bradley (Florence Briggs Thayer)</td><td>female</td><td>38</td><td>1</td><td>0</td><td>PC 17599        </td><td>71.2833</td><td>C85 </td><td>C</td></tr>\n",
       "\t<tr><th scope=row>3</th><td>3</td><td>1</td><td>3</td><td>Heikkinen, Miss. Laina                             </td><td>female</td><td>26</td><td>0</td><td>0</td><td>STON/O2. 3101282</td><td> 7.9250</td><td>    </td><td>S</td></tr>\n",
       "\t<tr><th scope=row>4</th><td>4</td><td>1</td><td>1</td><td>Futrelle, Mrs. Jacques Heath (Lily May Peel)       </td><td>female</td><td>35</td><td>1</td><td>0</td><td>113803          </td><td>53.1000</td><td>C123</td><td>S</td></tr>\n",
       "\t<tr><th scope=row>5</th><td>5</td><td>0</td><td>3</td><td>Allen, Mr. William Henry                           </td><td>male  </td><td>35</td><td>0</td><td>0</td><td>373450          </td><td> 8.0500</td><td>    </td><td>S</td></tr>\n",
       "\t<tr><th scope=row>6</th><td>6</td><td>0</td><td>3</td><td>Moran, Mr. James                                   </td><td>male  </td><td>NA</td><td>0</td><td>0</td><td>330877          </td><td> 8.4583</td><td>    </td><td>Q</td></tr>\n",
       "</tbody>\n",
       "</table>\n"
      ],
      "text/latex": [
       "A data.frame: 6 × 12\n",
       "\\begin{tabular}{r|llllllllllll}\n",
       "  & PassengerId & Survived & Pclass & Name & Sex & Age & SibSp & Parch & Ticket & Fare & Cabin & Embarked\\\\\n",
       "  & <int> & <int> & <int> & <chr> & <chr> & <dbl> & <int> & <int> & <chr> & <dbl> & <chr> & <chr>\\\\\n",
       "\\hline\n",
       "\t1 & 1 & 0 & 3 & Braund, Mr. Owen Harris                             & male   & 22 & 1 & 0 & A/5 21171        &  7.2500 &      & S\\\\\n",
       "\t2 & 2 & 1 & 1 & Cumings, Mrs. John Bradley (Florence Briggs Thayer) & female & 38 & 1 & 0 & PC 17599         & 71.2833 & C85  & C\\\\\n",
       "\t3 & 3 & 1 & 3 & Heikkinen, Miss. Laina                              & female & 26 & 0 & 0 & STON/O2. 3101282 &  7.9250 &      & S\\\\\n",
       "\t4 & 4 & 1 & 1 & Futrelle, Mrs. Jacques Heath (Lily May Peel)        & female & 35 & 1 & 0 & 113803           & 53.1000 & C123 & S\\\\\n",
       "\t5 & 5 & 0 & 3 & Allen, Mr. William Henry                            & male   & 35 & 0 & 0 & 373450           &  8.0500 &      & S\\\\\n",
       "\t6 & 6 & 0 & 3 & Moran, Mr. James                                    & male   & NA & 0 & 0 & 330877           &  8.4583 &      & Q\\\\\n",
       "\\end{tabular}\n"
      ],
      "text/markdown": [
       "\n",
       "A data.frame: 6 × 12\n",
       "\n",
       "| <!--/--> | PassengerId &lt;int&gt; | Survived &lt;int&gt; | Pclass &lt;int&gt; | Name &lt;chr&gt; | Sex &lt;chr&gt; | Age &lt;dbl&gt; | SibSp &lt;int&gt; | Parch &lt;int&gt; | Ticket &lt;chr&gt; | Fare &lt;dbl&gt; | Cabin &lt;chr&gt; | Embarked &lt;chr&gt; |\n",
       "|---|---|---|---|---|---|---|---|---|---|---|---|---|\n",
       "| 1 | 1 | 0 | 3 | Braund, Mr. Owen Harris                             | male   | 22 | 1 | 0 | A/5 21171        |  7.2500 | <!----> | S |\n",
       "| 2 | 2 | 1 | 1 | Cumings, Mrs. John Bradley (Florence Briggs Thayer) | female | 38 | 1 | 0 | PC 17599         | 71.2833 | C85  | C |\n",
       "| 3 | 3 | 1 | 3 | Heikkinen, Miss. Laina                              | female | 26 | 0 | 0 | STON/O2. 3101282 |  7.9250 | <!----> | S |\n",
       "| 4 | 4 | 1 | 1 | Futrelle, Mrs. Jacques Heath (Lily May Peel)        | female | 35 | 1 | 0 | 113803           | 53.1000 | C123 | S |\n",
       "| 5 | 5 | 0 | 3 | Allen, Mr. William Henry                            | male   | 35 | 0 | 0 | 373450           |  8.0500 | <!----> | S |\n",
       "| 6 | 6 | 0 | 3 | Moran, Mr. James                                    | male   | NA | 0 | 0 | 330877           |  8.4583 | <!----> | Q |\n",
       "\n"
      ],
      "text/plain": [
       "  PassengerId Survived Pclass\n",
       "1 1           0        3     \n",
       "2 2           1        1     \n",
       "3 3           1        3     \n",
       "4 4           1        1     \n",
       "5 5           0        3     \n",
       "6 6           0        3     \n",
       "  Name                                                Sex    Age SibSp Parch\n",
       "1 Braund, Mr. Owen Harris                             male   22  1     0    \n",
       "2 Cumings, Mrs. John Bradley (Florence Briggs Thayer) female 38  1     0    \n",
       "3 Heikkinen, Miss. Laina                              female 26  0     0    \n",
       "4 Futrelle, Mrs. Jacques Heath (Lily May Peel)        female 35  1     0    \n",
       "5 Allen, Mr. William Henry                            male   35  0     0    \n",
       "6 Moran, Mr. James                                    male   NA  0     0    \n",
       "  Ticket           Fare    Cabin Embarked\n",
       "1 A/5 21171         7.2500       S       \n",
       "2 PC 17599         71.2833 C85   C       \n",
       "3 STON/O2. 3101282  7.9250       S       \n",
       "4 113803           53.1000 C123  S       \n",
       "5 373450            8.0500       S       \n",
       "6 330877            8.4583       Q       "
      ]
     },
     "metadata": {},
     "output_type": "display_data"
    },
    {
     "data": {
      "text/html": [
       "<table class=\"dataframe\">\n",
       "<caption>A data.frame: 6 × 11</caption>\n",
       "<thead>\n",
       "\t<tr><th></th><th scope=col>PassengerId</th><th scope=col>Pclass</th><th scope=col>Name</th><th scope=col>Sex</th><th scope=col>Age</th><th scope=col>SibSp</th><th scope=col>Parch</th><th scope=col>Ticket</th><th scope=col>Fare</th><th scope=col>Cabin</th><th scope=col>Embarked</th></tr>\n",
       "\t<tr><th></th><th scope=col>&lt;int&gt;</th><th scope=col>&lt;int&gt;</th><th scope=col>&lt;chr&gt;</th><th scope=col>&lt;chr&gt;</th><th scope=col>&lt;dbl&gt;</th><th scope=col>&lt;int&gt;</th><th scope=col>&lt;int&gt;</th><th scope=col>&lt;chr&gt;</th><th scope=col>&lt;dbl&gt;</th><th scope=col>&lt;chr&gt;</th><th scope=col>&lt;chr&gt;</th></tr>\n",
       "</thead>\n",
       "<tbody>\n",
       "\t<tr><th scope=row>413</th><td>1304</td><td>3</td><td>Henriksson, Miss. Jenny Lovisa</td><td>female</td><td>28.0</td><td>0</td><td>0</td><td>347086            </td><td>  7.7750</td><td>    </td><td>S</td></tr>\n",
       "\t<tr><th scope=row>414</th><td>1305</td><td>3</td><td>Spector, Mr. Woolf            </td><td>male  </td><td>  NA</td><td>0</td><td>0</td><td>A.5. 3236         </td><td>  8.0500</td><td>    </td><td>S</td></tr>\n",
       "\t<tr><th scope=row>415</th><td>1306</td><td>1</td><td>Oliva y Ocana, Dona. Fermina  </td><td>female</td><td>39.0</td><td>0</td><td>0</td><td>PC 17758          </td><td>108.9000</td><td>C105</td><td>C</td></tr>\n",
       "\t<tr><th scope=row>416</th><td>1307</td><td>3</td><td>Saether, Mr. Simon Sivertsen  </td><td>male  </td><td>38.5</td><td>0</td><td>0</td><td>SOTON/O.Q. 3101262</td><td>  7.2500</td><td>    </td><td>S</td></tr>\n",
       "\t<tr><th scope=row>417</th><td>1308</td><td>3</td><td>Ware, Mr. Frederick           </td><td>male  </td><td>  NA</td><td>0</td><td>0</td><td>359309            </td><td>  8.0500</td><td>    </td><td>S</td></tr>\n",
       "\t<tr><th scope=row>418</th><td>1309</td><td>3</td><td>Peter, Master. Michael J      </td><td>male  </td><td>  NA</td><td>1</td><td>1</td><td>2668              </td><td> 22.3583</td><td>    </td><td>C</td></tr>\n",
       "</tbody>\n",
       "</table>\n"
      ],
      "text/latex": [
       "A data.frame: 6 × 11\n",
       "\\begin{tabular}{r|lllllllllll}\n",
       "  & PassengerId & Pclass & Name & Sex & Age & SibSp & Parch & Ticket & Fare & Cabin & Embarked\\\\\n",
       "  & <int> & <int> & <chr> & <chr> & <dbl> & <int> & <int> & <chr> & <dbl> & <chr> & <chr>\\\\\n",
       "\\hline\n",
       "\t413 & 1304 & 3 & Henriksson, Miss. Jenny Lovisa & female & 28.0 & 0 & 0 & 347086             &   7.7750 &      & S\\\\\n",
       "\t414 & 1305 & 3 & Spector, Mr. Woolf             & male   &   NA & 0 & 0 & A.5. 3236          &   8.0500 &      & S\\\\\n",
       "\t415 & 1306 & 1 & Oliva y Ocana, Dona. Fermina   & female & 39.0 & 0 & 0 & PC 17758           & 108.9000 & C105 & C\\\\\n",
       "\t416 & 1307 & 3 & Saether, Mr. Simon Sivertsen   & male   & 38.5 & 0 & 0 & SOTON/O.Q. 3101262 &   7.2500 &      & S\\\\\n",
       "\t417 & 1308 & 3 & Ware, Mr. Frederick            & male   &   NA & 0 & 0 & 359309             &   8.0500 &      & S\\\\\n",
       "\t418 & 1309 & 3 & Peter, Master. Michael J       & male   &   NA & 1 & 1 & 2668               &  22.3583 &      & C\\\\\n",
       "\\end{tabular}\n"
      ],
      "text/markdown": [
       "\n",
       "A data.frame: 6 × 11\n",
       "\n",
       "| <!--/--> | PassengerId &lt;int&gt; | Pclass &lt;int&gt; | Name &lt;chr&gt; | Sex &lt;chr&gt; | Age &lt;dbl&gt; | SibSp &lt;int&gt; | Parch &lt;int&gt; | Ticket &lt;chr&gt; | Fare &lt;dbl&gt; | Cabin &lt;chr&gt; | Embarked &lt;chr&gt; |\n",
       "|---|---|---|---|---|---|---|---|---|---|---|---|\n",
       "| 413 | 1304 | 3 | Henriksson, Miss. Jenny Lovisa | female | 28.0 | 0 | 0 | 347086             |   7.7750 | <!----> | S |\n",
       "| 414 | 1305 | 3 | Spector, Mr. Woolf             | male   |   NA | 0 | 0 | A.5. 3236          |   8.0500 | <!----> | S |\n",
       "| 415 | 1306 | 1 | Oliva y Ocana, Dona. Fermina   | female | 39.0 | 0 | 0 | PC 17758           | 108.9000 | C105 | C |\n",
       "| 416 | 1307 | 3 | Saether, Mr. Simon Sivertsen   | male   | 38.5 | 0 | 0 | SOTON/O.Q. 3101262 |   7.2500 | <!----> | S |\n",
       "| 417 | 1308 | 3 | Ware, Mr. Frederick            | male   |   NA | 0 | 0 | 359309             |   8.0500 | <!----> | S |\n",
       "| 418 | 1309 | 3 | Peter, Master. Michael J       | male   |   NA | 1 | 1 | 2668               |  22.3583 | <!----> | C |\n",
       "\n"
      ],
      "text/plain": [
       "    PassengerId Pclass Name                           Sex    Age  SibSp Parch\n",
       "413 1304        3      Henriksson, Miss. Jenny Lovisa female 28.0 0     0    \n",
       "414 1305        3      Spector, Mr. Woolf             male     NA 0     0    \n",
       "415 1306        1      Oliva y Ocana, Dona. Fermina   female 39.0 0     0    \n",
       "416 1307        3      Saether, Mr. Simon Sivertsen   male   38.5 0     0    \n",
       "417 1308        3      Ware, Mr. Frederick            male     NA 0     0    \n",
       "418 1309        3      Peter, Master. Michael J       male     NA 1     1    \n",
       "    Ticket             Fare     Cabin Embarked\n",
       "413 347086               7.7750       S       \n",
       "414 A.5. 3236            8.0500       S       \n",
       "415 PC 17758           108.9000 C105  C       \n",
       "416 SOTON/O.Q. 3101262   7.2500       S       \n",
       "417 359309               8.0500       S       \n",
       "418 2668                22.3583       C       "
      ]
     },
     "metadata": {},
     "output_type": "display_data"
    }
   ],
   "source": [
    "#Import dataset \n",
    "train <- read.csv(\"data/train.csv\")\n",
    "test <- read.csv(\"data/test.csv\")\n",
    "head(train)\n",
    "tail(test)"
   ]
  },
  {
   "cell_type": "code",
   "execution_count": 2,
   "id": "5421dec5",
   "metadata": {},
   "outputs": [],
   "source": [
    "# Join together the test and train sets \n",
    "test$Survived <- NA\n",
    "combined_set <- rbind(train, test)"
   ]
  },
  {
   "cell_type": "code",
   "execution_count": 3,
   "id": "2996af3d",
   "metadata": {},
   "outputs": [],
   "source": [
    "# Convert to a string for split title\n",
    "combined_set$Name <- as.character(combined_set$Name)"
   ]
  },
  {
   "cell_type": "code",
   "execution_count": 4,
   "id": "10c0bb56",
   "metadata": {},
   "outputs": [],
   "source": [
    "# Engineered variable: Title\n",
    "# Seperate the title \n",
    "combined_set$Title <- sapply(combined_set$Name, FUN=function(x) {strsplit(x, split='[,.]')[[1]][2]})\n",
    "combined_set$Title <- sub(' ', '', combined_set$Title)"
   ]
  },
  {
   "cell_type": "code",
   "execution_count": 5,
   "id": "64bb423a",
   "metadata": {},
   "outputs": [],
   "source": [
    "# Marge same type title in groups\n",
    "combined_set$Title[combined_set$Title %in% c('Mme', 'Mlle')] <- 'Mlle'\n",
    "combined_set$Title[combined_set$Title %in% c('Capt', 'Don', 'Major', 'Sir')] <- 'Sir'\n",
    "combined_set$Title[combined_set$Title %in% c('Dona', 'Lady', 'the Countess', 'Jonkheer')] <- 'Lady'"
   ]
  },
  {
   "cell_type": "code",
   "execution_count": 6,
   "id": "57444fa8",
   "metadata": {},
   "outputs": [],
   "source": [
    "# Convert to a factor\n",
    "combined_set$Title <- factor(combined_set$Title)"
   ]
  },
  {
   "cell_type": "code",
   "execution_count": 7,
   "id": "2f1c4ad4",
   "metadata": {},
   "outputs": [],
   "source": [
    "# Mother\n",
    "combined_set$Mother <- 'Not Mother'\n",
    "combined_set$Mother[combined_set$Sex == 'female' & combined_set$Parch > 0 & combined_set$Age > 18] <- 'Mother'\n",
    "combined_set$Mother <- factor(combined_set$Mother)"
   ]
  },
  {
   "cell_type": "code",
   "execution_count": 8,
   "id": "26635d80",
   "metadata": {},
   "outputs": [],
   "source": [
    "# Child\n",
    "\n",
    "combined_set$Child[combined_set$Age < 14] <- 'Child'\n",
    "combined_set$Child[combined_set$Age >= 14] <- 'Adult'\n",
    "combined_set$Child <- factor(combined_set$Child)"
   ]
  },
  {
   "cell_type": "code",
   "execution_count": 9,
   "id": "6134557c",
   "metadata": {},
   "outputs": [
    {
     "data": {
      "text/html": [
       "<style>\n",
       ".list-inline {list-style: none; margin:0; padding: 0}\n",
       ".list-inline>li {display: inline-block}\n",
       ".list-inline>li:not(:last-child)::after {content: \"\\00b7\"; padding: 0 .5ex}\n",
       "</style>\n",
       "<ol class=list-inline><li>'C'</li><li>'8'</li><li>'5'</li></ol>\n"
      ],
      "text/latex": [
       "\\begin{enumerate*}\n",
       "\\item 'C'\n",
       "\\item '8'\n",
       "\\item '5'\n",
       "\\end{enumerate*}\n"
      ],
      "text/markdown": [
       "1. 'C'\n",
       "2. '8'\n",
       "3. '5'\n",
       "\n",
       "\n"
      ],
      "text/plain": [
       "[1] \"C\" \"8\" \"5\""
      ]
     },
     "metadata": {},
     "output_type": "display_data"
    }
   ],
   "source": [
    "# Cabin\n",
    "combined_set$Cabin <- as.character(combined_set$Cabin)\n",
    "strsplit(combined_set$Cabin[2], NULL)[[1]]\n",
    "combined_set$Deck<-factor(sapply(combined_set$Cabin, function(x) strsplit(x, NULL)[[1]][1])) "
   ]
  },
  {
   "cell_type": "code",
   "execution_count": 10,
   "id": "b7925078",
   "metadata": {},
   "outputs": [],
   "source": [
    "# Engineered variable: Family size\n",
    "combined_set$FamilySize <- combined_set$SibSp + combined_set$Parch + 1"
   ]
  },
  {
   "cell_type": "code",
   "execution_count": 12,
   "id": "e1c21312",
   "metadata": {},
   "outputs": [],
   "source": [
    "# Engineered variable: Family\n",
    "combined_set$Surname <- sapply(combined_set$Name, FUN=function(x) {strsplit(x, split='[,.]')[[1]][1]})\n",
    "combined_set$FamilyID <- paste(as.character(combined_set$FamilySize), combined_set$Surname, sep=\"\")\n",
    "combined_set$FamilyID[combined_set$FamilySize <= 2] <- 'Small'"
   ]
  },
  {
   "cell_type": "code",
   "execution_count": 13,
   "id": "44631387",
   "metadata": {},
   "outputs": [
    {
     "data": {
      "text/plain": [
       "\n",
       "           11Sage           3Abbott         3Appleton         3Beckwith \n",
       "               11                 3                 1                 2 \n",
       "          3Boulos           3Bourke            3Brown         3Caldwell \n",
       "                3                 3                 4                 3 \n",
       "         3Christy          3Collyer          3Compton          3Cornell \n",
       "                2                 3                 3                 1 \n",
       "          3Coutts           3Crosby           3Danbom           3Davies \n",
       "                3                 3                 3                 5 \n",
       "           3Dodge          3Douglas             3Drew            3Elias \n",
       "                3                 1                 3                 3 \n",
       "      3Frauenthal        3Frolicher 3Frolicher-Stehli        3Goldsmith \n",
       "                1                 1                 2                 3 \n",
       "      3Gustafsson       3Hamalainen           3Hansen             3Hart \n",
       "                2                 2                 1                 3 \n",
       "            3Hays          3Hickman         3Hiltunen         3Hirvonen \n",
       "                2                 3                 1                 1 \n",
       "        3Jefferys          3Johnson             3Kink    3Kink-Heilmann \n",
       "                2                 3                 2                 2 \n",
       "          3Klasen         3Lahtinen           3Mallet            3McCoy \n",
       "                3                 2                 3                 3 \n",
       "         3Minahan         3Moubarek            3Nakid         3Navratil \n",
       "                1                 3                 3                 3 \n",
       "          3Newell           3Newsom         3Nicholls          3Peacock \n",
       "                1                 1                 1                 3 \n",
       "           3Peter            3Quick         3Richards          3Rosblom \n",
       "                3                 3                 2                 3 \n",
       "          3Samaan        3Sandstrom           3Silven          3Spedden \n",
       "                3                 3                 1                 3 \n",
       "           3Strom          3Taussig           3Thayer           3Thomas \n",
       "                1                 3                 3                 1 \n",
       "           3Touma     3van Billiard         3Van Impe    3Vander Planke \n",
       "                3                 3                 3                 2 \n",
       "           3Wells             3Wick          3Widener          4Allison \n",
       "                3                 3                 3                 4 \n",
       "       4Backstrom          4Baclini           4Becker           4Carter \n",
       "                1                 4                 4                 4 \n",
       "        4Davidson             4Dean           4Herman          4Hocking \n",
       "                1                 4                 4                 2 \n",
       "       4Jacobsohn         4Johnston          4Laroche           4Renouf \n",
       "                1                 4                 4                 1 \n",
       "   4Vander Planke             4West             5Ford          5Hocking \n",
       "                1                 4                 5                 1 \n",
       "   5Kink-Heilmann          5Lefebre          5Palsson          5Ryerson \n",
       "                1                 5                 5                 5 \n",
       "         6Fortune           6Panula             6Rice         6Richards \n",
       "                6                 6                 6                 1 \n",
       "           6Skoog        7Andersson          7Asplund          8Goodwin \n",
       "                6                 9                 7                 8 \n",
       "            Small \n",
       "             1025 "
      ]
     },
     "metadata": {},
     "output_type": "display_data"
    }
   ],
   "source": [
    "# Inspect new feature\n",
    "table(combined_set$FamilyID)"
   ]
  },
  {
   "cell_type": "code",
   "execution_count": 14,
   "id": "ab2f3b63",
   "metadata": {},
   "outputs": [],
   "source": [
    "# Removing all erroneous family IDs\n",
    "famIDs <- data.frame(table(combined_set$FamilyID))\n",
    "famIDs <- famIDs[famIDs$Freq <= 2,]\n",
    "combined_set$FamilyID[combined_set$FamilyID %in% famIDs$Var1] <- 'Small'"
   ]
  },
  {
   "cell_type": "code",
   "execution_count": 15,
   "id": "4576ddff",
   "metadata": {},
   "outputs": [],
   "source": [
    "# Convert to a factor\n",
    "combined_set$FamilyID <- factor(combined_set$FamilyID)\n",
    "combined_set$FamilySizeGroup[combined_set$FamilySize == 1] <- 'single'\n",
    "combined_set$FamilySizeGroup[combined_set$FamilySize < 5 & combined_set$FamilySize > 1] <- 'Smaller'\n",
    "combined_set$FamilySizeGroup[combined_set$FamilySize > 4] <- 'large'"
   ]
  },
  {
   "cell_type": "code",
   "execution_count": 16,
   "id": "ce952d1d",
   "metadata": {},
   "outputs": [],
   "source": [
    "# Convert to a factor\n",
    "combined_set$FamilyID <- factor(combined_set$FamilyID)\n",
    "combined_set$FamilySizeGroup <- factor(combined_set$FamilySizeGroup)"
   ]
  },
  {
   "cell_type": "code",
   "execution_count": 19,
   "id": "a17e365f",
   "metadata": {},
   "outputs": [
    {
     "data": {
      "text/plain": [
       "   Min. 1st Qu.  Median    Mean 3rd Qu.    Max. \n",
       "   0.17   22.00   29.95   29.76   37.00   80.00 "
      ]
     },
     "metadata": {},
     "output_type": "display_data"
    }
   ],
   "source": [
    "\n",
    "# Fill in Age NAs\n",
    "summary(combined_set$Age)"
   ]
  },
  {
   "cell_type": "code",
   "execution_count": 21,
   "id": "110346bd",
   "metadata": {},
   "outputs": [
    {
     "data": {
      "text/plain": [
       "  PassengerId      Survived          Pclass          Name          \n",
       " Min.   :   1   Min.   :0.0000   Min.   :1.000   Length:1309       \n",
       " 1st Qu.: 328   1st Qu.:0.0000   1st Qu.:2.000   Class :character  \n",
       " Median : 655   Median :0.0000   Median :3.000   Mode  :character  \n",
       " Mean   : 655   Mean   :0.3838   Mean   :2.295                     \n",
       " 3rd Qu.: 982   3rd Qu.:1.0000   3rd Qu.:3.000                     \n",
       " Max.   :1309   Max.   :1.0000   Max.   :3.000                     \n",
       "                NA's   :418                                        \n",
       "     Sex                 Age            SibSp            Parch      \n",
       " Length:1309        Min.   : 0.17   Min.   :0.0000   Min.   :0.000  \n",
       " Class :character   1st Qu.:22.00   1st Qu.:0.0000   1st Qu.:0.000  \n",
       " Mode  :character   Median :29.95   Median :0.0000   Median :0.000  \n",
       "                    Mean   :29.76   Mean   :0.4989   Mean   :0.385  \n",
       "                    3rd Qu.:37.00   3rd Qu.:1.0000   3rd Qu.:0.000  \n",
       "                    Max.   :80.00   Max.   :8.0000   Max.   :9.000  \n",
       "                                                                    \n",
       "    Ticket               Fare            Cabin             Embarked        \n",
       " Length:1309        Min.   :  0.000   Length:1309        Length:1309       \n",
       " Class :character   1st Qu.:  7.896   Class :character   Class :character  \n",
       " Mode  :character   Median : 14.454   Mode  :character   Mode  :character  \n",
       "                    Mean   : 33.295                                        \n",
       "                    3rd Qu.: 31.275                                        \n",
       "                    Max.   :512.329                                        \n",
       "                    NA's   :1                                              \n",
       "     Title            Mother       Child          Deck        FamilySize    \n",
       " Mr     :757   Mother    :  97   Adult:947   C      :  94   Min.   : 1.000  \n",
       " Miss   :260   Not Mother:1212   Child: 99   B      :  65   1st Qu.: 1.000  \n",
       " Mrs    :197                     NA's :263   D      :  46   Median : 1.000  \n",
       " Master : 61                                 E      :  41   Mean   : 1.884  \n",
       " Dr     :  8                                 A      :  22   3rd Qu.: 2.000  \n",
       " Rev    :  8                                 (Other):  27   Max.   :11.000  \n",
       " (Other): 18                                 NA's   :1014                   \n",
       "   Surname                FamilyID    FamilySizeGroup\n",
       " Length:1309        Small     :1074   large  : 82    \n",
       " Class :character   11Sage    :  11   single :790    \n",
       " Mode  :character   7Andersson:   9   Smaller:437    \n",
       "                    8Goodwin  :   8                  \n",
       "                    7Asplund  :   7                  \n",
       "                    6Fortune  :   6                  \n",
       "                    (Other)   : 194                  "
      ]
     },
     "metadata": {},
     "output_type": "display_data"
    }
   ],
   "source": [
    "library(rpart)\n",
    "#Missing value treatment\n",
    "FillAge <- rpart(Age ~ Pclass + Mother + FamilySize + Sex + SibSp + Parch + Deck + Fare + Embarked + Title + FamilyID + FamilySizeGroup + FamilySize, \n",
    "                 data=combined_set[!is.na(combined_set$Age),], method=\"anova\")\n",
    "combined_set$Age[is.na(combined_set$Age)] <- predict(FillAge, combined_set[is.na(combined_set$Age),])\n",
    "summary(combined_set)"
   ]
  },
  {
   "cell_type": "code",
   "execution_count": 22,
   "id": "337d4d69",
   "metadata": {},
   "outputs": [
    {
     "data": {
      "text/plain": [
       "   Length     Class      Mode \n",
       "     1309 character character "
      ]
     },
     "metadata": {},
     "output_type": "display_data"
    },
    {
     "data": {
      "text/html": [
       "<style>\n",
       ".list-inline {list-style: none; margin:0; padding: 0}\n",
       ".list-inline>li {display: inline-block}\n",
       ".list-inline>li:not(:last-child)::after {content: \"\\00b7\"; padding: 0 .5ex}\n",
       "</style>\n",
       "<ol class=list-inline><li>62</li><li>830</li></ol>\n"
      ],
      "text/latex": [
       "\\begin{enumerate*}\n",
       "\\item 62\n",
       "\\item 830\n",
       "\\end{enumerate*}\n"
      ],
      "text/markdown": [
       "1. 62\n",
       "2. 830\n",
       "\n",
       "\n"
      ],
      "text/plain": [
       "[1]  62 830"
      ]
     },
     "metadata": {},
     "output_type": "display_data"
    }
   ],
   "source": [
    "# Fill in Embarked blanks\n",
    "summary(combined_set$Embarked)\n",
    "which(combined_set$Embarked == '')\n",
    "combined_set$Embarked[c(62,830)] = \"S\"\n",
    "combined_set$Embarked <- factor(combined_set$Embarked)"
   ]
  },
  {
   "cell_type": "code",
   "execution_count": 23,
   "id": "54c57914",
   "metadata": {},
   "outputs": [
    {
     "data": {
      "text/plain": [
       "   Min. 1st Qu.  Median    Mean 3rd Qu.    Max.    NA's \n",
       "  0.000   7.896  14.454  33.295  31.275 512.329       1 "
      ]
     },
     "metadata": {},
     "output_type": "display_data"
    },
    {
     "data": {
      "text/html": [
       "1044"
      ],
      "text/latex": [
       "1044"
      ],
      "text/markdown": [
       "1044"
      ],
      "text/plain": [
       "[1] 1044"
      ]
     },
     "metadata": {},
     "output_type": "display_data"
    }
   ],
   "source": [
    "# Fill in Fare NAs\n",
    "summary(combined_set$Fare)\n",
    "which(is.na(combined_set$Fare))\n",
    "combined_set$Fare[1044] <- median(combined_set$Fare, na.rm=TRUE)"
   ]
  },
  {
   "cell_type": "code",
   "execution_count": 24,
   "id": "322e7e8d",
   "metadata": {},
   "outputs": [],
   "source": [
    "# New factor for new technique , only allowed <32 levels, so reduce number\n",
    "combined_set$FamilyID2 <- combined_set$FamilyID"
   ]
  },
  {
   "cell_type": "code",
   "execution_count": 25,
   "id": "fd4cbeff",
   "metadata": {},
   "outputs": [],
   "source": [
    "# Convert back to string\n",
    "combined_set$FamilyID2 <- as.character(combined_set$FamilyID2)\n",
    "combined_set$FamilyID2[combined_set$FamilySize <= 3] <- 'Small'"
   ]
  },
  {
   "cell_type": "code",
   "execution_count": 26,
   "id": "461d8dd7",
   "metadata": {},
   "outputs": [],
   "source": [
    "# And convert back to factor\n",
    "combined_set$FamilyID2 <- factor(combined_set$FamilyID2)"
   ]
  },
  {
   "cell_type": "code",
   "execution_count": 27,
   "id": "7e23c417",
   "metadata": {},
   "outputs": [],
   "source": [
    "#Again Mother\n",
    "combined_set$Mother <- 'Not Mother'\n",
    "combined_set$Mother[combined_set$Sex == 'female' & combined_set$Parch > 0 & combined_set$Age > 18] <- 'Mother'\n",
    "combined_set$Mother <- factor(combined_set$Mother)"
   ]
  },
  {
   "cell_type": "code",
   "execution_count": 28,
   "id": "cb43ef4a",
   "metadata": {},
   "outputs": [],
   "source": [
    "#Again Child\n",
    "\n",
    "combined_set$Child[combined_set$Age < 14] <- 'Child'\n",
    "combined_set$Child[combined_set$Age >= 14] <- 'Adult'\n",
    "combined_set$Child <- factor(combined_set$Child)"
   ]
  },
  {
   "cell_type": "code",
   "execution_count": 29,
   "id": "9716797d",
   "metadata": {},
   "outputs": [],
   "source": [
    "# Split back into test and train sets\n",
    "train <- combined_set[1:891,]\n",
    "test <- combined_set[892:1309,]"
   ]
  },
  {
   "cell_type": "code",
   "execution_count": 30,
   "id": "0b31b238",
   "metadata": {},
   "outputs": [
    {
     "name": "stderr",
     "output_type": "stream",
     "text": [
      "randomForest 4.6-14\n",
      "\n",
      "Type rfNews() to see new features/changes/bug fixes.\n",
      "\n"
     ]
    }
   ],
   "source": [
    "# install.packages('randomForest')\n",
    "library(randomForest)"
   ]
  },
  {
   "cell_type": "code",
   "execution_count": 31,
   "id": "9fab6aa6",
   "metadata": {},
   "outputs": [],
   "source": [
    "set.seed(291)\n",
    "\n",
    "rftrain01 <- combined_set[1:891,\n",
    "                          c(\"Pclass\",\"Age\", \"Title\",\"Sex\",\"SibSp\",\"Parch\",\"Fare\",\"Embarked\",\"FamilySize\",\"FamilySizeGroup\",\"FamilyID2\")]\n",
    "rflabel <- as.factor(train$Survived)"
   ]
  },
  {
   "cell_type": "code",
   "execution_count": 32,
   "id": "20bfa997",
   "metadata": {},
   "outputs": [
    {
     "data": {
      "text/plain": [
       "\n",
       "Call:\n",
       " randomForest(x = rftrain01, y = rflabel, ntree = 1000, importance = TRUE) \n",
       "               Type of random forest: classification\n",
       "                     Number of trees: 1000\n",
       "No. of variables tried at each split: 3\n",
       "\n",
       "        OOB estimate of  error rate: 17.17%\n",
       "Confusion matrix:\n",
       "    0   1 class.error\n",
       "0 490  59   0.1074681\n",
       "1  94 248   0.2748538"
      ]
     },
     "metadata": {},
     "output_type": "display_data"
    }
   ],
   "source": [
    "fit1 <- randomForest(x = rftrain01, y = rflabel, importance = TRUE, ntree = 1000)\n",
    "fit1"
   ]
  },
  {
   "cell_type": "code",
   "execution_count": 33,
   "id": "3fe17f83",
   "metadata": {},
   "outputs": [
    {
     "data": {
      "image/png": "[encoded data removed]",
      "text/plain": [
       "plot without title"
      ]
     },
     "metadata": {
      "image/png": {
       "height": 420,
       "width": 420
      }
     },
     "output_type": "display_data"
    }
   ],
   "source": [
    "varImpPlot(fit1)"
   ]
  },
  {
   "cell_type": "code",
   "execution_count": 36,
   "id": "5fa43a51",
   "metadata": {},
   "outputs": [],
   "source": [
    "library(sandwich)\n",
    "library(party)"
   ]
  },
  {
   "cell_type": "code",
   "execution_count": 38,
   "id": "a12d27b5",
   "metadata": {},
   "outputs": [],
   "source": [
    "\n",
    "set.seed(291)\n",
    "fit2 <- cforest(as.factor(Survived) ~ Pclass +as.factor(Sex) + Age + SibSp + Parch + Fare + Embarked + Title + FamilySize + FamilyID,\n",
    "                data = train, controls=cforest_unbiased(ntree=2000, mtry=3)) "
   ]
  },
  {
   "cell_type": "code",
   "execution_count": 39,
   "id": "7d5c5c43",
   "metadata": {},
   "outputs": [],
   "source": [
    "# Now make a prediction and write a submission file\n",
    "MyPredict <- predict(object = fit2, newdata = test, OOB=TRUE, type = \"response\")\n",
    "\n",
    "predict7th <- data.frame(PassengerId = test$PassengerId, Survived = MyPredict)\n",
    "write.csv(predict7th, file = \"tree23.csv\", row.names = FALSE)"
   ]
  }
 ],
 "metadata": {
  "kernelspec": {
   "display_name": "R",
   "language": "R",
   "name": "ir"
  },
  "language_info": {
   "codemirror_mode": "r",
   "file_extension": ".r",
   "mimetype": "text/x-r-source",
   "name": "R",
   "pygments_lexer": "r",
   "version": "4.1.0"
  }
 },
 "nbformat": 4,
 "nbformat_minor": 5
}
