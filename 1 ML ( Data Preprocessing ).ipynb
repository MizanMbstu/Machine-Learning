{
 "cells": [
  {
   "cell_type": "markdown",
   "id": "ca390dda",
   "metadata": {},
   "source": [
    "Import the dataset "
   ]
  },
  {
   "cell_type": "code",
   "execution_count": 1,
   "id": "b6232b11",
   "metadata": {},
   "outputs": [],
   "source": [
    "dataset <- read.csv(\"data/Data.csv\")"
   ]
  },
  {
   "cell_type": "markdown",
   "id": "df97877c",
   "metadata": {},
   "source": [
    "Now view the dataset"
   ]
  },
  {
   "cell_type": "code",
   "execution_count": 2,
   "id": "3fd9a923",
   "metadata": {},
   "outputs": [
    {
     "data": {
      "text/html": [
       "<table class=\"dataframe\">\n",
       "<caption>A data.frame: 10 × 4</caption>\n",
       "<thead>\n",
       "\t<tr><th scope=col>Country</th><th scope=col>Age</th><th scope=col>Salary</th><th scope=col>Purchased</th></tr>\n",
       "\t<tr><th scope=col>&lt;chr&gt;</th><th scope=col>&lt;int&gt;</th><th scope=col>&lt;int&gt;</th><th scope=col>&lt;chr&gt;</th></tr>\n",
       "</thead>\n",
       "<tbody>\n",
       "\t<tr><td>France </td><td>44</td><td>72000</td><td>No </td></tr>\n",
       "\t<tr><td>Spain  </td><td>27</td><td>48000</td><td>Yes</td></tr>\n",
       "\t<tr><td>Germany</td><td>30</td><td>54000</td><td>No </td></tr>\n",
       "\t<tr><td>Spain  </td><td>38</td><td>61000</td><td>No </td></tr>\n",
       "\t<tr><td>Germany</td><td>40</td><td>   NA</td><td>Yes</td></tr>\n",
       "\t<tr><td>France </td><td>35</td><td>58000</td><td>Yes</td></tr>\n",
       "\t<tr><td>Spain  </td><td>NA</td><td>52000</td><td>No </td></tr>\n",
       "\t<tr><td>France </td><td>48</td><td>79000</td><td>Yes</td></tr>\n",
       "\t<tr><td>Germany</td><td>50</td><td>83000</td><td>No </td></tr>\n",
       "\t<tr><td>France </td><td>37</td><td>67000</td><td>Yes</td></tr>\n",
       "</tbody>\n",
       "</table>\n"
      ],
      "text/latex": [
       "A data.frame: 10 × 4\n",
       "\\begin{tabular}{llll}\n",
       " Country & Age & Salary & Purchased\\\\\n",
       " <chr> & <int> & <int> & <chr>\\\\\n",
       "\\hline\n",
       "\t France  & 44 & 72000 & No \\\\\n",
       "\t Spain   & 27 & 48000 & Yes\\\\\n",
       "\t Germany & 30 & 54000 & No \\\\\n",
       "\t Spain   & 38 & 61000 & No \\\\\n",
       "\t Germany & 40 &    NA & Yes\\\\\n",
       "\t France  & 35 & 58000 & Yes\\\\\n",
       "\t Spain   & NA & 52000 & No \\\\\n",
       "\t France  & 48 & 79000 & Yes\\\\\n",
       "\t Germany & 50 & 83000 & No \\\\\n",
       "\t France  & 37 & 67000 & Yes\\\\\n",
       "\\end{tabular}\n"
      ],
      "text/markdown": [
       "\n",
       "A data.frame: 10 × 4\n",
       "\n",
       "| Country &lt;chr&gt; | Age &lt;int&gt; | Salary &lt;int&gt; | Purchased &lt;chr&gt; |\n",
       "|---|---|---|---|\n",
       "| France  | 44 | 72000 | No  |\n",
       "| Spain   | 27 | 48000 | Yes |\n",
       "| Germany | 30 | 54000 | No  |\n",
       "| Spain   | 38 | 61000 | No  |\n",
       "| Germany | 40 |    NA | Yes |\n",
       "| France  | 35 | 58000 | Yes |\n",
       "| Spain   | NA | 52000 | No  |\n",
       "| France  | 48 | 79000 | Yes |\n",
       "| Germany | 50 | 83000 | No  |\n",
       "| France  | 37 | 67000 | Yes |\n",
       "\n"
      ],
      "text/plain": [
       "   Country Age Salary Purchased\n",
       "1  France  44  72000  No       \n",
       "2  Spain   27  48000  Yes      \n",
       "3  Germany 30  54000  No       \n",
       "4  Spain   38  61000  No       \n",
       "5  Germany 40     NA  Yes      \n",
       "6  France  35  58000  Yes      \n",
       "7  Spain   NA  52000  No       \n",
       "8  France  48  79000  Yes      \n",
       "9  Germany 50  83000  No       \n",
       "10 France  37  67000  Yes      "
      ]
     },
     "metadata": {},
     "output_type": "display_data"
    }
   ],
   "source": [
    "View(dataset)"
   ]
  },
  {
   "cell_type": "markdown",
   "id": "5bf9c5b5",
   "metadata": {},
   "source": [
    "Missing value treatment"
   ]
  },
  {
   "cell_type": "code",
   "execution_count": 3,
   "id": "10d422e2",
   "metadata": {},
   "outputs": [
    {
     "data": {
      "text/html": [
       "<table class=\"dataframe\">\n",
       "<caption>A data.frame: 10 × 4</caption>\n",
       "<thead>\n",
       "\t<tr><th scope=col>Country</th><th scope=col>Age</th><th scope=col>Salary</th><th scope=col>Purchased</th></tr>\n",
       "\t<tr><th scope=col>&lt;chr&gt;</th><th scope=col>&lt;int&gt;</th><th scope=col>&lt;dbl&gt;</th><th scope=col>&lt;chr&gt;</th></tr>\n",
       "</thead>\n",
       "<tbody>\n",
       "\t<tr><td>France </td><td>44</td><td>72000.00</td><td>No </td></tr>\n",
       "\t<tr><td>Spain  </td><td>27</td><td>48000.00</td><td>Yes</td></tr>\n",
       "\t<tr><td>Germany</td><td>30</td><td>54000.00</td><td>No </td></tr>\n",
       "\t<tr><td>Spain  </td><td>38</td><td>61000.00</td><td>No </td></tr>\n",
       "\t<tr><td>Germany</td><td>40</td><td>63777.78</td><td>Yes</td></tr>\n",
       "\t<tr><td>France </td><td>35</td><td>58000.00</td><td>Yes</td></tr>\n",
       "\t<tr><td>Spain  </td><td>NA</td><td>52000.00</td><td>No </td></tr>\n",
       "\t<tr><td>France </td><td>48</td><td>79000.00</td><td>Yes</td></tr>\n",
       "\t<tr><td>Germany</td><td>50</td><td>83000.00</td><td>No </td></tr>\n",
       "\t<tr><td>France </td><td>37</td><td>67000.00</td><td>Yes</td></tr>\n",
       "</tbody>\n",
       "</table>\n"
      ],
      "text/latex": [
       "A data.frame: 10 × 4\n",
       "\\begin{tabular}{llll}\n",
       " Country & Age & Salary & Purchased\\\\\n",
       " <chr> & <int> & <dbl> & <chr>\\\\\n",
       "\\hline\n",
       "\t France  & 44 & 72000.00 & No \\\\\n",
       "\t Spain   & 27 & 48000.00 & Yes\\\\\n",
       "\t Germany & 30 & 54000.00 & No \\\\\n",
       "\t Spain   & 38 & 61000.00 & No \\\\\n",
       "\t Germany & 40 & 63777.78 & Yes\\\\\n",
       "\t France  & 35 & 58000.00 & Yes\\\\\n",
       "\t Spain   & NA & 52000.00 & No \\\\\n",
       "\t France  & 48 & 79000.00 & Yes\\\\\n",
       "\t Germany & 50 & 83000.00 & No \\\\\n",
       "\t France  & 37 & 67000.00 & Yes\\\\\n",
       "\\end{tabular}\n"
      ],
      "text/markdown": [
       "\n",
       "A data.frame: 10 × 4\n",
       "\n",
       "| Country &lt;chr&gt; | Age &lt;int&gt; | Salary &lt;dbl&gt; | Purchased &lt;chr&gt; |\n",
       "|---|---|---|---|\n",
       "| France  | 44 | 72000.00 | No  |\n",
       "| Spain   | 27 | 48000.00 | Yes |\n",
       "| Germany | 30 | 54000.00 | No  |\n",
       "| Spain   | 38 | 61000.00 | No  |\n",
       "| Germany | 40 | 63777.78 | Yes |\n",
       "| France  | 35 | 58000.00 | Yes |\n",
       "| Spain   | NA | 52000.00 | No  |\n",
       "| France  | 48 | 79000.00 | Yes |\n",
       "| Germany | 50 | 83000.00 | No  |\n",
       "| France  | 37 | 67000.00 | Yes |\n",
       "\n"
      ],
      "text/plain": [
       "   Country Age Salary   Purchased\n",
       "1  France  44  72000.00 No       \n",
       "2  Spain   27  48000.00 Yes      \n",
       "3  Germany 30  54000.00 No       \n",
       "4  Spain   38  61000.00 No       \n",
       "5  Germany 40  63777.78 Yes      \n",
       "6  France  35  58000.00 Yes      \n",
       "7  Spain   NA  52000.00 No       \n",
       "8  France  48  79000.00 Yes      \n",
       "9  Germany 50  83000.00 No       \n",
       "10 France  37  67000.00 Yes      "
      ]
     },
     "metadata": {},
     "output_type": "display_data"
    }
   ],
   "source": [
    "dataset$Salary <- ifelse(is.na(dataset$Salary),mean(dataset$Salary,na.rm=TRUE),dataset$Salary)\n",
    "View(dataset)"
   ]
  },
  {
   "cell_type": "code",
   "execution_count": 4,
   "id": "2c67668d",
   "metadata": {},
   "outputs": [
    {
     "data": {
      "text/html": [
       "<table class=\"dataframe\">\n",
       "<caption>A data.frame: 10 × 4</caption>\n",
       "<thead>\n",
       "\t<tr><th scope=col>Country</th><th scope=col>Age</th><th scope=col>Salary</th><th scope=col>Purchased</th></tr>\n",
       "\t<tr><th scope=col>&lt;chr&gt;</th><th scope=col>&lt;dbl&gt;</th><th scope=col>&lt;dbl&gt;</th><th scope=col>&lt;chr&gt;</th></tr>\n",
       "</thead>\n",
       "<tbody>\n",
       "\t<tr><td>France </td><td>44.00000</td><td>72000.00</td><td>No </td></tr>\n",
       "\t<tr><td>Spain  </td><td>27.00000</td><td>48000.00</td><td>Yes</td></tr>\n",
       "\t<tr><td>Germany</td><td>30.00000</td><td>54000.00</td><td>No </td></tr>\n",
       "\t<tr><td>Spain  </td><td>38.00000</td><td>61000.00</td><td>No </td></tr>\n",
       "\t<tr><td>Germany</td><td>40.00000</td><td>63777.78</td><td>Yes</td></tr>\n",
       "\t<tr><td>France </td><td>35.00000</td><td>58000.00</td><td>Yes</td></tr>\n",
       "\t<tr><td>Spain  </td><td>38.77778</td><td>52000.00</td><td>No </td></tr>\n",
       "\t<tr><td>France </td><td>48.00000</td><td>79000.00</td><td>Yes</td></tr>\n",
       "\t<tr><td>Germany</td><td>50.00000</td><td>83000.00</td><td>No </td></tr>\n",
       "\t<tr><td>France </td><td>37.00000</td><td>67000.00</td><td>Yes</td></tr>\n",
       "</tbody>\n",
       "</table>\n"
      ],
      "text/latex": [
       "A data.frame: 10 × 4\n",
       "\\begin{tabular}{llll}\n",
       " Country & Age & Salary & Purchased\\\\\n",
       " <chr> & <dbl> & <dbl> & <chr>\\\\\n",
       "\\hline\n",
       "\t France  & 44.00000 & 72000.00 & No \\\\\n",
       "\t Spain   & 27.00000 & 48000.00 & Yes\\\\\n",
       "\t Germany & 30.00000 & 54000.00 & No \\\\\n",
       "\t Spain   & 38.00000 & 61000.00 & No \\\\\n",
       "\t Germany & 40.00000 & 63777.78 & Yes\\\\\n",
       "\t France  & 35.00000 & 58000.00 & Yes\\\\\n",
       "\t Spain   & 38.77778 & 52000.00 & No \\\\\n",
       "\t France  & 48.00000 & 79000.00 & Yes\\\\\n",
       "\t Germany & 50.00000 & 83000.00 & No \\\\\n",
       "\t France  & 37.00000 & 67000.00 & Yes\\\\\n",
       "\\end{tabular}\n"
      ],
      "text/markdown": [
       "\n",
       "A data.frame: 10 × 4\n",
       "\n",
       "| Country &lt;chr&gt; | Age &lt;dbl&gt; | Salary &lt;dbl&gt; | Purchased &lt;chr&gt; |\n",
       "|---|---|---|---|\n",
       "| France  | 44.00000 | 72000.00 | No  |\n",
       "| Spain   | 27.00000 | 48000.00 | Yes |\n",
       "| Germany | 30.00000 | 54000.00 | No  |\n",
       "| Spain   | 38.00000 | 61000.00 | No  |\n",
       "| Germany | 40.00000 | 63777.78 | Yes |\n",
       "| France  | 35.00000 | 58000.00 | Yes |\n",
       "| Spain   | 38.77778 | 52000.00 | No  |\n",
       "| France  | 48.00000 | 79000.00 | Yes |\n",
       "| Germany | 50.00000 | 83000.00 | No  |\n",
       "| France  | 37.00000 | 67000.00 | Yes |\n",
       "\n"
      ],
      "text/plain": [
       "   Country Age      Salary   Purchased\n",
       "1  France  44.00000 72000.00 No       \n",
       "2  Spain   27.00000 48000.00 Yes      \n",
       "3  Germany 30.00000 54000.00 No       \n",
       "4  Spain   38.00000 61000.00 No       \n",
       "5  Germany 40.00000 63777.78 Yes      \n",
       "6  France  35.00000 58000.00 Yes      \n",
       "7  Spain   38.77778 52000.00 No       \n",
       "8  France  48.00000 79000.00 Yes      \n",
       "9  Germany 50.00000 83000.00 No       \n",
       "10 France  37.00000 67000.00 Yes      "
      ]
     },
     "metadata": {},
     "output_type": "display_data"
    }
   ],
   "source": [
    "dataset$Age <- ifelse(is.na(dataset$Age),mean(dataset$Age,na.rm=T),dataset$Age)\n",
    "View(dataset)"
   ]
  },
  {
   "cell_type": "markdown",
   "id": "5df86544",
   "metadata": {},
   "source": [
    "Encoding categorical data"
   ]
  },
  {
   "cell_type": "code",
   "execution_count": 5,
   "id": "423568f5",
   "metadata": {},
   "outputs": [
    {
     "data": {
      "text/html": [
       "<table class=\"dataframe\">\n",
       "<caption>A data.frame: 10 × 4</caption>\n",
       "<thead>\n",
       "\t<tr><th scope=col>Country</th><th scope=col>Age</th><th scope=col>Salary</th><th scope=col>Purchased</th></tr>\n",
       "\t<tr><th scope=col>&lt;fct&gt;</th><th scope=col>&lt;dbl&gt;</th><th scope=col>&lt;dbl&gt;</th><th scope=col>&lt;chr&gt;</th></tr>\n",
       "</thead>\n",
       "<tbody>\n",
       "\t<tr><td>1</td><td>44.00000</td><td>72000.00</td><td>No </td></tr>\n",
       "\t<tr><td>2</td><td>27.00000</td><td>48000.00</td><td>Yes</td></tr>\n",
       "\t<tr><td>3</td><td>30.00000</td><td>54000.00</td><td>No </td></tr>\n",
       "\t<tr><td>2</td><td>38.00000</td><td>61000.00</td><td>No </td></tr>\n",
       "\t<tr><td>3</td><td>40.00000</td><td>63777.78</td><td>Yes</td></tr>\n",
       "\t<tr><td>1</td><td>35.00000</td><td>58000.00</td><td>Yes</td></tr>\n",
       "\t<tr><td>2</td><td>38.77778</td><td>52000.00</td><td>No </td></tr>\n",
       "\t<tr><td>1</td><td>48.00000</td><td>79000.00</td><td>Yes</td></tr>\n",
       "\t<tr><td>3</td><td>50.00000</td><td>83000.00</td><td>No </td></tr>\n",
       "\t<tr><td>1</td><td>37.00000</td><td>67000.00</td><td>Yes</td></tr>\n",
       "</tbody>\n",
       "</table>\n"
      ],
      "text/latex": [
       "A data.frame: 10 × 4\n",
       "\\begin{tabular}{llll}\n",
       " Country & Age & Salary & Purchased\\\\\n",
       " <fct> & <dbl> & <dbl> & <chr>\\\\\n",
       "\\hline\n",
       "\t 1 & 44.00000 & 72000.00 & No \\\\\n",
       "\t 2 & 27.00000 & 48000.00 & Yes\\\\\n",
       "\t 3 & 30.00000 & 54000.00 & No \\\\\n",
       "\t 2 & 38.00000 & 61000.00 & No \\\\\n",
       "\t 3 & 40.00000 & 63777.78 & Yes\\\\\n",
       "\t 1 & 35.00000 & 58000.00 & Yes\\\\\n",
       "\t 2 & 38.77778 & 52000.00 & No \\\\\n",
       "\t 1 & 48.00000 & 79000.00 & Yes\\\\\n",
       "\t 3 & 50.00000 & 83000.00 & No \\\\\n",
       "\t 1 & 37.00000 & 67000.00 & Yes\\\\\n",
       "\\end{tabular}\n"
      ],
      "text/markdown": [
       "\n",
       "A data.frame: 10 × 4\n",
       "\n",
       "| Country &lt;fct&gt; | Age &lt;dbl&gt; | Salary &lt;dbl&gt; | Purchased &lt;chr&gt; |\n",
       "|---|---|---|---|\n",
       "| 1 | 44.00000 | 72000.00 | No  |\n",
       "| 2 | 27.00000 | 48000.00 | Yes |\n",
       "| 3 | 30.00000 | 54000.00 | No  |\n",
       "| 2 | 38.00000 | 61000.00 | No  |\n",
       "| 3 | 40.00000 | 63777.78 | Yes |\n",
       "| 1 | 35.00000 | 58000.00 | Yes |\n",
       "| 2 | 38.77778 | 52000.00 | No  |\n",
       "| 1 | 48.00000 | 79000.00 | Yes |\n",
       "| 3 | 50.00000 | 83000.00 | No  |\n",
       "| 1 | 37.00000 | 67000.00 | Yes |\n",
       "\n"
      ],
      "text/plain": [
       "   Country Age      Salary   Purchased\n",
       "1  1       44.00000 72000.00 No       \n",
       "2  2       27.00000 48000.00 Yes      \n",
       "3  3       30.00000 54000.00 No       \n",
       "4  2       38.00000 61000.00 No       \n",
       "5  3       40.00000 63777.78 Yes      \n",
       "6  1       35.00000 58000.00 Yes      \n",
       "7  2       38.77778 52000.00 No       \n",
       "8  1       48.00000 79000.00 Yes      \n",
       "9  3       50.00000 83000.00 No       \n",
       "10 1       37.00000 67000.00 Yes      "
      ]
     },
     "metadata": {},
     "output_type": "display_data"
    }
   ],
   "source": [
    "dataset$Country <-factor(dataset$Country,levels = c(\"France\",\"Spain\",\"Germany\"),labels = c(1,2,3))\n",
    "View(dataset)"
   ]
  },
  {
   "cell_type": "code",
   "execution_count": 6,
   "id": "5ac7ead9",
   "metadata": {},
   "outputs": [
    {
     "data": {
      "text/html": [
       "<table class=\"dataframe\">\n",
       "<caption>A data.frame: 10 × 4</caption>\n",
       "<thead>\n",
       "\t<tr><th scope=col>Country</th><th scope=col>Age</th><th scope=col>Salary</th><th scope=col>Purchased</th></tr>\n",
       "\t<tr><th scope=col>&lt;fct&gt;</th><th scope=col>&lt;dbl&gt;</th><th scope=col>&lt;dbl&gt;</th><th scope=col>&lt;fct&gt;</th></tr>\n",
       "</thead>\n",
       "<tbody>\n",
       "\t<tr><td>1</td><td>44.00000</td><td>72000.00</td><td>0</td></tr>\n",
       "\t<tr><td>2</td><td>27.00000</td><td>48000.00</td><td>1</td></tr>\n",
       "\t<tr><td>3</td><td>30.00000</td><td>54000.00</td><td>0</td></tr>\n",
       "\t<tr><td>2</td><td>38.00000</td><td>61000.00</td><td>0</td></tr>\n",
       "\t<tr><td>3</td><td>40.00000</td><td>63777.78</td><td>1</td></tr>\n",
       "\t<tr><td>1</td><td>35.00000</td><td>58000.00</td><td>1</td></tr>\n",
       "\t<tr><td>2</td><td>38.77778</td><td>52000.00</td><td>0</td></tr>\n",
       "\t<tr><td>1</td><td>48.00000</td><td>79000.00</td><td>1</td></tr>\n",
       "\t<tr><td>3</td><td>50.00000</td><td>83000.00</td><td>0</td></tr>\n",
       "\t<tr><td>1</td><td>37.00000</td><td>67000.00</td><td>1</td></tr>\n",
       "</tbody>\n",
       "</table>\n"
      ],
      "text/latex": [
       "A data.frame: 10 × 4\n",
       "\\begin{tabular}{llll}\n",
       " Country & Age & Salary & Purchased\\\\\n",
       " <fct> & <dbl> & <dbl> & <fct>\\\\\n",
       "\\hline\n",
       "\t 1 & 44.00000 & 72000.00 & 0\\\\\n",
       "\t 2 & 27.00000 & 48000.00 & 1\\\\\n",
       "\t 3 & 30.00000 & 54000.00 & 0\\\\\n",
       "\t 2 & 38.00000 & 61000.00 & 0\\\\\n",
       "\t 3 & 40.00000 & 63777.78 & 1\\\\\n",
       "\t 1 & 35.00000 & 58000.00 & 1\\\\\n",
       "\t 2 & 38.77778 & 52000.00 & 0\\\\\n",
       "\t 1 & 48.00000 & 79000.00 & 1\\\\\n",
       "\t 3 & 50.00000 & 83000.00 & 0\\\\\n",
       "\t 1 & 37.00000 & 67000.00 & 1\\\\\n",
       "\\end{tabular}\n"
      ],
      "text/markdown": [
       "\n",
       "A data.frame: 10 × 4\n",
       "\n",
       "| Country &lt;fct&gt; | Age &lt;dbl&gt; | Salary &lt;dbl&gt; | Purchased &lt;fct&gt; |\n",
       "|---|---|---|---|\n",
       "| 1 | 44.00000 | 72000.00 | 0 |\n",
       "| 2 | 27.00000 | 48000.00 | 1 |\n",
       "| 3 | 30.00000 | 54000.00 | 0 |\n",
       "| 2 | 38.00000 | 61000.00 | 0 |\n",
       "| 3 | 40.00000 | 63777.78 | 1 |\n",
       "| 1 | 35.00000 | 58000.00 | 1 |\n",
       "| 2 | 38.77778 | 52000.00 | 0 |\n",
       "| 1 | 48.00000 | 79000.00 | 1 |\n",
       "| 3 | 50.00000 | 83000.00 | 0 |\n",
       "| 1 | 37.00000 | 67000.00 | 1 |\n",
       "\n"
      ],
      "text/plain": [
       "   Country Age      Salary   Purchased\n",
       "1  1       44.00000 72000.00 0        \n",
       "2  2       27.00000 48000.00 1        \n",
       "3  3       30.00000 54000.00 0        \n",
       "4  2       38.00000 61000.00 0        \n",
       "5  3       40.00000 63777.78 1        \n",
       "6  1       35.00000 58000.00 1        \n",
       "7  2       38.77778 52000.00 0        \n",
       "8  1       48.00000 79000.00 1        \n",
       "9  3       50.00000 83000.00 0        \n",
       "10 1       37.00000 67000.00 1        "
      ]
     },
     "metadata": {},
     "output_type": "display_data"
    }
   ],
   "source": [
    "dataset$Purchased <- factor(x = dataset$Purchased,levels =c(\"No\",\"Yes\") ,labels =c(0,1))\n",
    "View(dataset)"
   ]
  },
  {
   "cell_type": "markdown",
   "id": "5213708f",
   "metadata": {},
   "source": [
    "Feature Sclaing"
   ]
  },
  {
   "cell_type": "code",
   "execution_count": 7,
   "id": "32286867",
   "metadata": {},
   "outputs": [
    {
     "data": {
      "text/html": [
       "<table class=\"dataframe\">\n",
       "<caption>A data.frame: 10 × 4</caption>\n",
       "<thead>\n",
       "\t<tr><th scope=col>Country</th><th scope=col>Age</th><th scope=col>Salary</th><th scope=col>Purchased</th></tr>\n",
       "\t<tr><th scope=col>&lt;fct&gt;</th><th scope=col>&lt;dbl&gt;</th><th scope=col>&lt;dbl&gt;</th><th scope=col>&lt;fct&gt;</th></tr>\n",
       "</thead>\n",
       "<tbody>\n",
       "\t<tr><td>1</td><td> 0.7199314</td><td> 0.7110128</td><td>0</td></tr>\n",
       "\t<tr><td>2</td><td>-1.6236751</td><td>-1.3643758</td><td>1</td></tr>\n",
       "\t<tr><td>3</td><td>-1.2100975</td><td>-0.8455287</td><td>0</td></tr>\n",
       "\t<tr><td>2</td><td>-0.1072238</td><td>-0.2402070</td><td>0</td></tr>\n",
       "\t<tr><td>3</td><td> 0.1684946</td><td> 0.0000000</td><td>1</td></tr>\n",
       "\t<tr><td>1</td><td>-0.5208015</td><td>-0.4996306</td><td>1</td></tr>\n",
       "\t<tr><td>2</td><td> 0.0000000</td><td>-1.0184777</td><td>0</td></tr>\n",
       "\t<tr><td>1</td><td> 1.2713683</td><td> 1.3163344</td><td>1</td></tr>\n",
       "\t<tr><td>3</td><td> 1.5470867</td><td> 1.6622325</td><td>0</td></tr>\n",
       "\t<tr><td>1</td><td>-0.2450830</td><td> 0.2786401</td><td>1</td></tr>\n",
       "</tbody>\n",
       "</table>\n"
      ],
      "text/latex": [
       "A data.frame: 10 × 4\n",
       "\\begin{tabular}{llll}\n",
       " Country & Age & Salary & Purchased\\\\\n",
       " <fct> & <dbl> & <dbl> & <fct>\\\\\n",
       "\\hline\n",
       "\t 1 &  0.7199314 &  0.7110128 & 0\\\\\n",
       "\t 2 & -1.6236751 & -1.3643758 & 1\\\\\n",
       "\t 3 & -1.2100975 & -0.8455287 & 0\\\\\n",
       "\t 2 & -0.1072238 & -0.2402070 & 0\\\\\n",
       "\t 3 &  0.1684946 &  0.0000000 & 1\\\\\n",
       "\t 1 & -0.5208015 & -0.4996306 & 1\\\\\n",
       "\t 2 &  0.0000000 & -1.0184777 & 0\\\\\n",
       "\t 1 &  1.2713683 &  1.3163344 & 1\\\\\n",
       "\t 3 &  1.5470867 &  1.6622325 & 0\\\\\n",
       "\t 1 & -0.2450830 &  0.2786401 & 1\\\\\n",
       "\\end{tabular}\n"
      ],
      "text/markdown": [
       "\n",
       "A data.frame: 10 × 4\n",
       "\n",
       "| Country &lt;fct&gt; | Age &lt;dbl&gt; | Salary &lt;dbl&gt; | Purchased &lt;fct&gt; |\n",
       "|---|---|---|---|\n",
       "| 1 |  0.7199314 |  0.7110128 | 0 |\n",
       "| 2 | -1.6236751 | -1.3643758 | 1 |\n",
       "| 3 | -1.2100975 | -0.8455287 | 0 |\n",
       "| 2 | -0.1072238 | -0.2402070 | 0 |\n",
       "| 3 |  0.1684946 |  0.0000000 | 1 |\n",
       "| 1 | -0.5208015 | -0.4996306 | 1 |\n",
       "| 2 |  0.0000000 | -1.0184777 | 0 |\n",
       "| 1 |  1.2713683 |  1.3163344 | 1 |\n",
       "| 3 |  1.5470867 |  1.6622325 | 0 |\n",
       "| 1 | -0.2450830 |  0.2786401 | 1 |\n",
       "\n"
      ],
      "text/plain": [
       "   Country Age        Salary     Purchased\n",
       "1  1        0.7199314  0.7110128 0        \n",
       "2  2       -1.6236751 -1.3643758 1        \n",
       "3  3       -1.2100975 -0.8455287 0        \n",
       "4  2       -0.1072238 -0.2402070 0        \n",
       "5  3        0.1684946  0.0000000 1        \n",
       "6  1       -0.5208015 -0.4996306 1        \n",
       "7  2        0.0000000 -1.0184777 0        \n",
       "8  1        1.2713683  1.3163344 1        \n",
       "9  3        1.5470867  1.6622325 0        \n",
       "10 1       -0.2450830  0.2786401 1        "
      ]
     },
     "metadata": {},
     "output_type": "display_data"
    }
   ],
   "source": [
    "dataset[,2:3] <- scale(dataset[,2:3])\n",
    "View(dataset)"
   ]
  },
  {
   "cell_type": "markdown",
   "id": "56a6a5ec",
   "metadata": {},
   "source": [
    "Split dataset into training_set and test_set"
   ]
  },
  {
   "cell_type": "code",
   "execution_count": 11,
   "id": "e81d2577",
   "metadata": {},
   "outputs": [],
   "source": [
    "#install.packages(\"caTools\")\n",
    "library(caTools)"
   ]
  },
  {
   "cell_type": "code",
   "execution_count": 15,
   "id": "75442680",
   "metadata": {},
   "outputs": [],
   "source": [
    "set.seed(123)\n",
    "split <- sample.split(Y = dataset$Purchased,SplitRatio = 2/3)\n",
    "training_set <-subset(dataset,split==T)\n",
    "test_set <- subset(dataset,split==F)"
   ]
  },
  {
   "cell_type": "code",
   "execution_count": 17,
   "id": "c8d63ac2",
   "metadata": {},
   "outputs": [
    {
     "data": {
      "text/html": [
       "<table class=\"dataframe\">\n",
       "<caption>A data.frame: 4 × 4</caption>\n",
       "<thead>\n",
       "\t<tr><th></th><th scope=col>Country</th><th scope=col>Age</th><th scope=col>Salary</th><th scope=col>Purchased</th></tr>\n",
       "\t<tr><th></th><th scope=col>&lt;fct&gt;</th><th scope=col>&lt;dbl&gt;</th><th scope=col>&lt;dbl&gt;</th><th scope=col>&lt;fct&gt;</th></tr>\n",
       "</thead>\n",
       "<tbody>\n",
       "\t<tr><th scope=row>6</th><td>1</td><td>-0.5208015</td><td>-0.4996306</td><td>1</td></tr>\n",
       "\t<tr><th scope=row>7</th><td>2</td><td> 0.0000000</td><td>-1.0184777</td><td>0</td></tr>\n",
       "\t<tr><th scope=row>8</th><td>1</td><td> 1.2713683</td><td> 1.3163344</td><td>1</td></tr>\n",
       "\t<tr><th scope=row>9</th><td>3</td><td> 1.5470867</td><td> 1.6622325</td><td>0</td></tr>\n",
       "</tbody>\n",
       "</table>\n"
      ],
      "text/latex": [
       "A data.frame: 4 × 4\n",
       "\\begin{tabular}{r|llll}\n",
       "  & Country & Age & Salary & Purchased\\\\\n",
       "  & <fct> & <dbl> & <dbl> & <fct>\\\\\n",
       "\\hline\n",
       "\t6 & 1 & -0.5208015 & -0.4996306 & 1\\\\\n",
       "\t7 & 2 &  0.0000000 & -1.0184777 & 0\\\\\n",
       "\t8 & 1 &  1.2713683 &  1.3163344 & 1\\\\\n",
       "\t9 & 3 &  1.5470867 &  1.6622325 & 0\\\\\n",
       "\\end{tabular}\n"
      ],
      "text/markdown": [
       "\n",
       "A data.frame: 4 × 4\n",
       "\n",
       "| <!--/--> | Country &lt;fct&gt; | Age &lt;dbl&gt; | Salary &lt;dbl&gt; | Purchased &lt;fct&gt; |\n",
       "|---|---|---|---|---|\n",
       "| 6 | 1 | -0.5208015 | -0.4996306 | 1 |\n",
       "| 7 | 2 |  0.0000000 | -1.0184777 | 0 |\n",
       "| 8 | 1 |  1.2713683 |  1.3163344 | 1 |\n",
       "| 9 | 3 |  1.5470867 |  1.6622325 | 0 |\n",
       "\n"
      ],
      "text/plain": [
       "  Country Age        Salary     Purchased\n",
       "6 1       -0.5208015 -0.4996306 1        \n",
       "7 2        0.0000000 -1.0184777 0        \n",
       "8 1        1.2713683  1.3163344 1        \n",
       "9 3        1.5470867  1.6622325 0        "
      ]
     },
     "metadata": {},
     "output_type": "display_data"
    },
    {
     "data": {
      "text/html": [
       "<table class=\"dataframe\">\n",
       "<caption>A data.frame: 6 × 4</caption>\n",
       "<thead>\n",
       "\t<tr><th></th><th scope=col>Country</th><th scope=col>Age</th><th scope=col>Salary</th><th scope=col>Purchased</th></tr>\n",
       "\t<tr><th></th><th scope=col>&lt;fct&gt;</th><th scope=col>&lt;dbl&gt;</th><th scope=col>&lt;dbl&gt;</th><th scope=col>&lt;fct&gt;</th></tr>\n",
       "</thead>\n",
       "<tbody>\n",
       "\t<tr><th scope=row>1</th><td>1</td><td> 0.7199314</td><td> 0.7110128</td><td>0</td></tr>\n",
       "\t<tr><th scope=row>2</th><td>2</td><td>-1.6236751</td><td>-1.3643758</td><td>1</td></tr>\n",
       "\t<tr><th scope=row>3</th><td>3</td><td>-1.2100975</td><td>-0.8455287</td><td>0</td></tr>\n",
       "\t<tr><th scope=row>4</th><td>2</td><td>-0.1072238</td><td>-0.2402070</td><td>0</td></tr>\n",
       "\t<tr><th scope=row>5</th><td>3</td><td> 0.1684946</td><td> 0.0000000</td><td>1</td></tr>\n",
       "\t<tr><th scope=row>10</th><td>1</td><td>-0.2450830</td><td> 0.2786401</td><td>1</td></tr>\n",
       "</tbody>\n",
       "</table>\n"
      ],
      "text/latex": [
       "A data.frame: 6 × 4\n",
       "\\begin{tabular}{r|llll}\n",
       "  & Country & Age & Salary & Purchased\\\\\n",
       "  & <fct> & <dbl> & <dbl> & <fct>\\\\\n",
       "\\hline\n",
       "\t1 & 1 &  0.7199314 &  0.7110128 & 0\\\\\n",
       "\t2 & 2 & -1.6236751 & -1.3643758 & 1\\\\\n",
       "\t3 & 3 & -1.2100975 & -0.8455287 & 0\\\\\n",
       "\t4 & 2 & -0.1072238 & -0.2402070 & 0\\\\\n",
       "\t5 & 3 &  0.1684946 &  0.0000000 & 1\\\\\n",
       "\t10 & 1 & -0.2450830 &  0.2786401 & 1\\\\\n",
       "\\end{tabular}\n"
      ],
      "text/markdown": [
       "\n",
       "A data.frame: 6 × 4\n",
       "\n",
       "| <!--/--> | Country &lt;fct&gt; | Age &lt;dbl&gt; | Salary &lt;dbl&gt; | Purchased &lt;fct&gt; |\n",
       "|---|---|---|---|---|\n",
       "| 1 | 1 |  0.7199314 |  0.7110128 | 0 |\n",
       "| 2 | 2 | -1.6236751 | -1.3643758 | 1 |\n",
       "| 3 | 3 | -1.2100975 | -0.8455287 | 0 |\n",
       "| 4 | 2 | -0.1072238 | -0.2402070 | 0 |\n",
       "| 5 | 3 |  0.1684946 |  0.0000000 | 1 |\n",
       "| 10 | 1 | -0.2450830 |  0.2786401 | 1 |\n",
       "\n"
      ],
      "text/plain": [
       "   Country Age        Salary     Purchased\n",
       "1  1        0.7199314  0.7110128 0        \n",
       "2  2       -1.6236751 -1.3643758 1        \n",
       "3  3       -1.2100975 -0.8455287 0        \n",
       "4  2       -0.1072238 -0.2402070 0        \n",
       "5  3        0.1684946  0.0000000 1        \n",
       "10 1       -0.2450830  0.2786401 1        "
      ]
     },
     "metadata": {},
     "output_type": "display_data"
    }
   ],
   "source": [
    "View(test_set)\n",
    "View(training_set)"
   ]
  }
 ],
 "metadata": {
  "kernelspec": {
   "display_name": "R",
   "language": "R",
   "name": "ir"
  },
  "language_info": {
   "codemirror_mode": "r",
   "file_extension": ".r",
   "mimetype": "text/x-r-source",
   "name": "R",
   "pygments_lexer": "r",
   "version": "4.1.0"
  }
 },
 "nbformat": 4,
 "nbformat_minor": 5
}
